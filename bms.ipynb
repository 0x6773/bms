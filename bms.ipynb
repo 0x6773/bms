{
 "cells": [
  {
   "cell_type": "code",
   "execution_count": 1,
   "metadata": {},
   "outputs": [],
   "source": [
    "import time\n",
    "from bs4 import BeautifulSoup\n",
    "import requests\n",
    "import datetime\n",
    "import pandas as pd\n",
    "import smtplib\n",
    "from email.message import EmailMessage\n",
    "import os\n",
    "from collections import defaultdict"
   ]
  },
  {
   "cell_type": "code",
   "execution_count": 2,
   "metadata": {},
   "outputs": [
    {
     "data": {
      "text/plain": [
       "datetime.datetime(2019, 4, 27, 17, 45, 19, 786009)"
      ]
     },
     "execution_count": 2,
     "metadata": {},
     "output_type": "execute_result"
    }
   ],
   "source": [
    "now = datetime.datetime.now() # - datetime.timedelta(10)\n",
    "now"
   ]
  },
  {
   "cell_type": "code",
   "execution_count": 3,
   "metadata": {},
   "outputs": [],
   "source": [
    "def get_date(date, offset=None):\n",
    "    if offset:\n",
    "        offset_days = datetime.timedelta(days=offset)\n",
    "        date = date + offset_days\n",
    "    year = date.year\n",
    "    day = date.day\n",
    "    month = date.month\n",
    "    date = '{:04d}{:02d}{:02d}'.format(year, month, day)\n",
    "    return date"
   ]
  },
  {
   "cell_type": "code",
   "execution_count": 4,
   "metadata": {},
   "outputs": [],
   "source": [
    "check_days = 7"
   ]
  },
  {
   "cell_type": "code",
   "execution_count": 5,
   "metadata": {},
   "outputs": [
    {
     "data": {
      "text/plain": [
       "['20190427',\n",
       " '20190428',\n",
       " '20190429',\n",
       " '20190430',\n",
       " '20190501',\n",
       " '20190502',\n",
       " '20190503']"
      ]
     },
     "execution_count": 5,
     "metadata": {},
     "output_type": "execute_result"
    }
   ],
   "source": [
    "listing_dates = [get_date(now, offset=i) for i in range(check_days)]\n",
    "listing_dates"
   ]
  },
  {
   "cell_type": "code",
   "execution_count": 6,
   "metadata": {},
   "outputs": [],
   "source": [
    "destinations = {\n",
    "    'Forum': 'https://in.bookmyshow.com/buytickets/pvr-forum-mall-koramangala/cinema-bang-PVBN-MT/',\n",
    "}"
   ]
  },
  {
   "cell_type": "code",
   "execution_count": 7,
   "metadata": {},
   "outputs": [
    {
     "data": {
      "text/plain": [
       "['Avengers: Endgame']"
      ]
     },
     "execution_count": 7,
     "metadata": {},
     "output_type": "execute_result"
    }
   ],
   "source": [
    "watching = ['Avengers: Endgame']\n",
    "watching"
   ]
  },
  {
   "cell_type": "code",
   "execution_count": 8,
   "metadata": {},
   "outputs": [
    {
     "data": {
      "text/plain": [
       "{'Forum': 'https://in.bookmyshow.com/buytickets/pvr-forum-mall-koramangala/cinema-bang-PVBN-MT/'}"
      ]
     },
     "execution_count": 8,
     "metadata": {},
     "output_type": "execute_result"
    }
   ],
   "source": [
    "for dest, dest_url in destinations.items():\n",
    "    dest_url = '{}/'.format(dest_url.rstrip('/'))\n",
    "    destinations[dest] = dest_url\n",
    "destinations"
   ]
  },
  {
   "cell_type": "code",
   "execution_count": 9,
   "metadata": {},
   "outputs": [
    {
     "data": {
      "text/html": [
       "<div>\n",
       "<style scoped>\n",
       "    .dataframe tbody tr th:only-of-type {\n",
       "        vertical-align: middle;\n",
       "    }\n",
       "\n",
       "    .dataframe tbody tr th {\n",
       "        vertical-align: top;\n",
       "    }\n",
       "\n",
       "    .dataframe thead th {\n",
       "        text-align: right;\n",
       "    }\n",
       "</style>\n",
       "<table border=\"1\" class=\"dataframe\">\n",
       "  <thead>\n",
       "    <tr style=\"text-align: right;\">\n",
       "      <th></th>\n",
       "      <th>date</th>\n",
       "      <th>movie</th>\n",
       "      <th>dest</th>\n",
       "    </tr>\n",
       "  </thead>\n",
       "  <tbody>\n",
       "    <tr>\n",
       "      <th>0</th>\n",
       "      <td>20190428</td>\n",
       "      <td>Avengers: Endgame</td>\n",
       "      <td>Forum</td>\n",
       "    </tr>\n",
       "  </tbody>\n",
       "</table>\n",
       "</div>"
      ],
      "text/plain": [
       "       date              movie   dest\n",
       "0  20190428  Avengers: Endgame  Forum"
      ]
     },
     "execution_count": 9,
     "metadata": {},
     "output_type": "execute_result"
    }
   ],
   "source": [
    "history = pd.read_csv('history.csv')\n",
    "history"
   ]
  },
  {
   "cell_type": "code",
   "execution_count": 10,
   "metadata": {},
   "outputs": [],
   "source": [
    "headers = {'User-Agent': 'Mozilla/5.0 (X11; Linux x86_64) AppleWebKit/537.11 (KHTML, like Gecko) Chrome/23.0.1271.64 Safari/537.11',\n",
    "       'Accept': 'text/html,application/xhtml+xml,application/xml;q=0.9,*/*;q=0.8',\n",
    "       'Accept-Charset': 'ISO-8859-1,utf-8;q=0.7,*;q=0.3',\n",
    "       'Accept-Encoding': 'none',\n",
    "       'Accept-Language': 'en-US,en;q=0.8',\n",
    "       'Connection': 'keep-alive'}"
   ]
  },
  {
   "cell_type": "code",
   "execution_count": 11,
   "metadata": {},
   "outputs": [],
   "source": [
    "#gmail_user = os.environ['gmail_user']\n",
    "gmail_user = 'bmsnotifier@gmail.com'\n",
    "#gmail_password = os.environ['gmail_password']\n",
    "gmail_password = 'bmsnotifier123'\n",
    "\n",
    "try:  \n",
    "    server = smtplib.SMTP_SSL('smtp.gmail.com', 465)\n",
    "    server.ehlo()\n",
    "    server.login(gmail_user, gmail_password)\n",
    "except:  \n",
    "    raise ValueError('Something went wrong while connecting to gmail...')\n",
    "    \n",
    "emails = ['singhsartaj94@gmail.com']#, 'dhruvgoel2295@gmail.com', '4bhimanyu@gmail.com', 'siddharthsikri46@gmail.com']"
   ]
  },
  {
   "cell_type": "code",
   "execution_count": 14,
   "metadata": {},
   "outputs": [],
   "source": [
    "def notify(emails, movies): \n",
    "    movie_names = ','.join(movies.keys())\n",
    "    subject = 'New Listings for {}'.format(movie_names)\n",
    "    \n",
    "    body = ''\n",
    "    for movie_name in movies.keys():\n",
    "        body += '{}\\n'.format(movie_name)\n",
    "        for date, dest, times in movies[movie_name]:\n",
    "            times = ' '.join(times)\n",
    "            day = pd.to_datetime(date).day_name()\n",
    "            body += '{}, {}, {} => {}\\n\\n'.format(dest, day, date, times)\n",
    "    msg = EmailMessage()\n",
    "    msg.set_content(body)\n",
    "    msg['Subject'] = subject\n",
    "    msg['From'] = gmail_user\n",
    "    msg['To'] = emails\n",
    "\n",
    "    server.send_message(msg)"
   ]
  },
  {
   "cell_type": "code",
   "execution_count": 15,
   "metadata": {},
   "outputs": [],
   "source": [
    "def bms_scrapper(watching, destinations, listing_dates, history):\n",
    "    movies = defaultdict(list)\n",
    "    for date in listing_dates:\n",
    "        frm_date = '{}-{}-{}'.format(date[-2:], date[4:6], date[:4])\n",
    "        for movie_name in watching:\n",
    "            for dest, dest_url in destinations.items():\n",
    "                logged = history.loc[(history['date'] == int(date))&(history['movie'] == movie_name)&(history['dest'] == dest), :]\n",
    "                if logged.shape[0] != 0:\n",
    "                    print('Already Notified for {}, {}'.format(frm_date, movie_name))\n",
    "                    continue\n",
    "                movie_date_url = '{}{}'.format(dest_url, date)\n",
    "                time.sleep(1)\n",
    "                movie_date_info = requests.get(movie_date_url, params=headers)\n",
    "                if date not in movie_date_info.url:\n",
    "                    print('{} not listed for {}'.format(movie_name, frm_date))\n",
    "                    break\n",
    "                movie_date_html = BeautifulSoup(movie_date_info.text)\n",
    "                containers = movie_date_html.find_all('div', attrs={'class': 'container'})\n",
    "                container = containers[2]\n",
    "                available_times = []\n",
    "                for movie in container.find_all('li', attrs={'class': 'list'}):\n",
    "                    curr_movie_name = movie.find('strong').text\n",
    "                    if movie_name not in curr_movie_name:\n",
    "                        continue\n",
    "                    body = movie.find('div', attrs={'class': 'body'})\n",
    "                    listings = body.find_all('div')\n",
    "                    available = filter(lambda listing: listing['data-oline'] == 'Y', listings)\n",
    "                    available_times.extend(list(map(lambda listing: listing.text, available)))\n",
    "                history = history.append([{'movie': movie_name, 'date': int(date), 'dest': dest}])\n",
    "                if len(available_times):\n",
    "                    movies[movie_name].append((frm_date, dest, available_times))\n",
    "    notify(emails, movies)"
   ]
  },
  {
   "cell_type": "code",
   "execution_count": 16,
   "metadata": {},
   "outputs": [
    {
     "name": "stdout",
     "output_type": "stream",
     "text": [
      "Already Notified for 28-04-2019, Avengers: Endgame\n",
      "Avengers: Endgame not listed for 01-05-2019\n",
      "Avengers: Endgame not listed for 02-05-2019\n",
      "Avengers: Endgame not listed for 03-05-2019\n"
     ]
    }
   ],
   "source": [
    "bms_scrapper(watching, destinations, listing_dates, history)"
   ]
  },
  {
   "cell_type": "code",
   "execution_count": 17,
   "metadata": {},
   "outputs": [],
   "source": [
    "#history.to_csv('history.csv', index=False)"
   ]
  },
  {
   "cell_type": "code",
   "execution_count": null,
   "metadata": {},
   "outputs": [],
   "source": []
  }
 ],
 "metadata": {
  "kernelspec": {
   "display_name": "Python 3",
   "language": "python",
   "name": "python3"
  },
  "language_info": {
   "codemirror_mode": {
    "name": "ipython",
    "version": 3
   },
   "file_extension": ".py",
   "mimetype": "text/x-python",
   "name": "python",
   "nbconvert_exporter": "python",
   "pygments_lexer": "ipython3",
   "version": "3.7.2"
  }
 },
 "nbformat": 4,
 "nbformat_minor": 2
}
